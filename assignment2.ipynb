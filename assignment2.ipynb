{
 "cells": [
  {
   "cell_type": "code",
   "execution_count": 1,
   "metadata": {},
   "outputs": [
    {
     "name": "stdout",
     "output_type": "stream",
     "text": [
      "Collecting package metadata (current_repodata.json): ...working... done\n",
      "Solving environment: ...working... done\n",
      "\n",
      "# All requested packages already installed.\n",
      "\n"
     ]
    }
   ],
   "source": [
    "#Importing Numpy, Pandas, Maltplotlib, Scipy, XLRD\n",
    "import numpy as np\n",
    "import pandas as pd\n",
    "import matplotlib.pyplot as plt\n",
    "import scipy.stats\n",
    "import sys\n",
    "!conda install --yes --prefix {sys.prefix} xlrd\n",
    "from sklearn.model_selection import train_test_split\n",
    "from sklearn import datasets \n",
    "from sklearn.neighbors import KNeighborsClassifier\n",
    "from sklearn.metrics import confusion_matrix\n",
    "from sklearn.metrics import accuracy_score\n",
    "from sklearn.metrics import classification_report\n",
    "from sklearn.tree import DecisionTreeClassifier\n",
    "from sklearn.model_selection import cross_val_score"
   ]
  },
  {
   "cell_type": "markdown",
   "metadata": {},
   "source": [
    "#Task 1"
   ]
  },
  {
   "cell_type": "code",
   "execution_count": 2,
   "metadata": {},
   "outputs": [],
   "source": [
    "#LOading the file\n",
    "cmc = pd.read_csv('cmc_data.csv')"
   ]
  },
  {
   "cell_type": "code",
   "execution_count": 3,
   "metadata": {},
   "outputs": [
    {
     "name": "stdout",
     "output_type": "stream",
     "text": [
      "First 5 lines\n",
      "   Wife_Age  Wife_Education  Husband_Education  Number_Of_Children  \\\n",
      "0        24               2                  3                   3   \n",
      "1        45               1                  3                  10   \n",
      "2        43               2                  3                   7   \n",
      "3        42               3                  2                   9   \n",
      "4        36               3                  3                   8   \n",
      "\n",
      "   Wife_Religion  Wife_Working  Husband_Occupation  Standard_of_Living  \\\n",
      "0              1             1                   2                   3   \n",
      "1              1             1                   3                   4   \n",
      "2              1             1                   3                   4   \n",
      "3              1             1                   3                   3   \n",
      "4              1             1                   3                   2   \n",
      "\n",
      "   Media_Exposure  Contraceptive_Method  \n",
      "0               0                     1  \n",
      "1               0                     1  \n",
      "2               0                     1  \n",
      "3               0                     1  \n",
      "4               0                     1  \n",
      "Last 5 lines\n",
      "      Wife_Age  Wife_Education  Husband_Education  Number_Of_Children  \\\n",
      "1468        33               4                  4                   2   \n",
      "1469        33               4                  4                   3   \n",
      "1470        39               3                  3                   8   \n",
      "1471        33               3                  3                   4   \n",
      "1472        17               3                  3                   1   \n",
      "\n",
      "      Wife_Religion  Wife_Working  Husband_Occupation  Standard_of_Living  \\\n",
      "1468              1             0                   2                   4   \n",
      "1469              1             1                   1                   4   \n",
      "1470              1             0                   1                   4   \n",
      "1471              1             0                   2                   2   \n",
      "1472              1             1                   2                   4   \n",
      "\n",
      "      Media_Exposure  Contraceptive_Method  \n",
      "1468               0                     3  \n",
      "1469               0                     3  \n",
      "1470               0                     3  \n",
      "1471               0                     3  \n",
      "1472               0                     3  \n",
      "Randomly select 10 lines\n",
      "      Wife_Age  Wife_Education  Husband_Education  Number_Of_Children  \\\n",
      "990         23               2                  3                   3   \n",
      "232         21               3                  4                   0   \n",
      "362         37               1                  3                   0   \n",
      "1383        26               3                  4                   2   \n",
      "316         28               1                  4                   2   \n",
      "1415        36               3                  4                   9   \n",
      "529         47               2                  2                   7   \n",
      "638         47               1                  1                   8   \n",
      "16          48               1                  1                   7   \n",
      "675         49               4                  3                  13   \n",
      "\n",
      "      Wife_Religion  Wife_Working  Husband_Occupation  Standard_of_Living  \\\n",
      "990               1             1                   2                   3   \n",
      "232               1             0                   3                   1   \n",
      "362               1             1                   3                   4   \n",
      "1383              1             0                   2                   4   \n",
      "316               1             0                   2                   3   \n",
      "1415              1             1                   3                   4   \n",
      "529               1             1                   2                   4   \n",
      "638               1             1                   3                   4   \n",
      "16                1             1                   2                   4   \n",
      "675               1             1                   1                   4   \n",
      "\n",
      "      Media_Exposure  Contraceptive_Method  \n",
      "990                0                     3  \n",
      "232                0                     1  \n",
      "362                0                     1  \n",
      "1383               0                     3  \n",
      "316                0                     1  \n",
      "1415               0                     3  \n",
      "529                0                     2  \n",
      "638                1                     2  \n",
      "16                 0                     1  \n",
      "675                0                     3  \n",
      "Shape\n",
      "(1473, 10)\n",
      "Info\n",
      "<class 'pandas.core.frame.DataFrame'>\n",
      "RangeIndex: 1473 entries, 0 to 1472\n",
      "Data columns (total 10 columns):\n",
      "Wife_Age                1473 non-null int64\n",
      "Wife_Education          1473 non-null int64\n",
      "Husband_Education       1473 non-null int64\n",
      "Number_Of_Children      1473 non-null int64\n",
      "Wife_Religion           1473 non-null int64\n",
      "Wife_Working            1473 non-null int64\n",
      "Husband_Occupation      1473 non-null int64\n",
      "Standard_of_Living      1473 non-null int64\n",
      "Media_Exposure          1473 non-null int64\n",
      "Contraceptive_Method    1473 non-null int64\n",
      "dtypes: int64(10)\n",
      "memory usage: 115.1 KB\n",
      "None\n",
      "Wife_Age                0\n",
      "Wife_Education          0\n",
      "Husband_Education       0\n",
      "Number_Of_Children      0\n",
      "Wife_Religion           0\n",
      "Wife_Working            0\n",
      "Husband_Occupation      0\n",
      "Standard_of_Living      0\n",
      "Media_Exposure          0\n",
      "Contraceptive_Method    0\n",
      "dtype: int64\n",
      "[24 45 43 42 36 19 38 21 27 44 26 48 39 37 46 40 29 31 33 25 28 47 32 49\n",
      " 34 20 22 30 23 35 41 17 18 16]\n",
      "[2 1 3 4]\n",
      "[3 2 4 1]\n",
      "[ 3 10  7  9  8  0  6  1  2  4  5 12 11 13 16]\n",
      "[1 0]\n",
      "[1 0]\n",
      "[2 3 1 4]\n",
      "[3 4 2 1]\n",
      "[0 1]\n",
      "[1 2 3]\n",
      "Description\n",
      "          Wife_Age  Wife_Education  Husband_Education  Number_Of_Children  \\\n",
      "count  1473.000000     1473.000000        1473.000000         1473.000000   \n",
      "mean     32.538357        2.958588           3.429735            3.261371   \n",
      "std       8.227245        1.014994           0.816349            2.358549   \n",
      "min      16.000000        1.000000           1.000000            0.000000   \n",
      "25%      26.000000        2.000000           3.000000            1.000000   \n",
      "50%      32.000000        3.000000           4.000000            3.000000   \n",
      "75%      39.000000        4.000000           4.000000            4.000000   \n",
      "max      49.000000        4.000000           4.000000           16.000000   \n",
      "\n",
      "       Wife_Religion  Wife_Working  Husband_Occupation  Standard_of_Living  \\\n",
      "count    1473.000000   1473.000000         1473.000000         1473.000000   \n",
      "mean        0.850645      0.749491            2.137814            3.133741   \n",
      "std         0.356559      0.433453            0.864857            0.976161   \n",
      "min         0.000000      0.000000            1.000000            1.000000   \n",
      "25%         1.000000      0.000000            1.000000            3.000000   \n",
      "50%         1.000000      1.000000            2.000000            3.000000   \n",
      "75%         1.000000      1.000000            3.000000            4.000000   \n",
      "max         1.000000      1.000000            4.000000            4.000000   \n",
      "\n",
      "       Media_Exposure  Contraceptive_Method  \n",
      "count     1473.000000           1473.000000  \n",
      "mean         0.073999              1.919891  \n",
      "std          0.261858              0.876376  \n",
      "min          0.000000              1.000000  \n",
      "25%          0.000000              1.000000  \n",
      "50%          0.000000              2.000000  \n",
      "75%          0.000000              3.000000  \n",
      "max          1.000000              3.000000  \n"
     ]
    }
   ],
   "source": [
    "#Checking the file\n",
    "print(\"First 5 lines\")\n",
    "print(cmc.head(5))\n",
    "print(\"Last 5 lines\")\n",
    "print(cmc.tail(5))\n",
    "print(\"Randomly select 10 lines\")\n",
    "print(cmc.sample(10, random_state=3))\n",
    "print(\"Shape\")\n",
    "print(cmc.shape)\n",
    "print(\"Info\")\n",
    "print(cmc.info())\n",
    "print(cmc.isna().sum())\n",
    "for col in cmc:\n",
    "    print(cmc[col].unique())\n",
    "print(\"Description\")\n",
    "print(cmc.describe(include='all'))"
   ]
  },
  {
   "cell_type": "code",
   "execution_count": 4,
   "metadata": {},
   "outputs": [
    {
     "name": "stdout",
     "output_type": "stream",
     "text": [
      "Wife_Age                32.538357\n",
      "Wife_Education           2.958588\n",
      "Husband_Education        3.429735\n",
      "Number_Of_Children       3.261371\n",
      "Wife_Religion            0.850645\n",
      "Wife_Working             0.749491\n",
      "Husband_Occupation       2.137814\n",
      "Standard_of_Living       3.133741\n",
      "Media_Exposure           0.073999\n",
      "Contraceptive_Method     1.919891\n",
      "dtype: float64\n",
      "********************************************************************************\n",
      "Max values\n",
      "Wife_Age                49\n",
      "Wife_Education           4\n",
      "Husband_Education        4\n",
      "Number_Of_Children      16\n",
      "Wife_Religion            1\n",
      "Wife_Working             1\n",
      "Husband_Occupation       4\n",
      "Standard_of_Living       4\n",
      "Media_Exposure           1\n",
      "Contraceptive_Method     3\n",
      "dtype: int64\n",
      "********************************************************************************\n",
      "Min values\n",
      "Wife_Age                16\n",
      "Wife_Education           1\n",
      "Husband_Education        1\n",
      "Number_Of_Children       0\n",
      "Wife_Religion            0\n",
      "Wife_Working             0\n",
      "Husband_Occupation       1\n",
      "Standard_of_Living       1\n",
      "Media_Exposure           0\n",
      "Contraceptive_Method     1\n",
      "dtype: int64\n"
     ]
    }
   ],
   "source": [
    "#Looking at the data\n",
    "# Mean value \n",
    "print(cmc.mean())\n",
    "print('*'*80)\n",
    "# Max and min value \n",
    "print('Max values')\n",
    "print(cmc.max())\n",
    "print('*'*80)\n",
    "print('Min values')\n",
    "print(cmc.min())"
   ]
  },
  {
   "cell_type": "markdown",
   "metadata": {},
   "source": [
    "#Task 2"
   ]
  },
  {
   "cell_type": "markdown",
   "metadata": {},
   "source": [
    "#Task 2.1"
   ]
  },
  {
   "cell_type": "code",
   "execution_count": 5,
   "metadata": {},
   "outputs": [
    {
     "name": "stdout",
     "output_type": "stream",
     "text": [
      "32.5383570944\n",
      "8.22724475547\n",
      "49\n",
      "16\n"
     ]
    },
    {
     "data": {
      "image/png": "[encoded data removed]",
      "text/plain": [
       "<Figure size 432x288 with 1 Axes>"
      ]
     },
     "metadata": {
      "needs_background": "light"
     },
     "output_type": "display_data"
    }
   ],
   "source": [
    "#1 Wife's Age\n",
    "print(cmc.Wife_Age.mean())\n",
    "print(cmc.Wife_Age.std())\n",
    "print(cmc.Wife_Age.max())\n",
    "print(cmc.Wife_Age.min())\n",
    "cmc['Wife_Age'].hist(bins=10)\n",
    "plt.title(\"Wife's Age\")\n",
    "plt.show()"
   ]
  },
  {
   "cell_type": "code",
   "execution_count": 6,
   "metadata": {},
   "outputs": [
    {
     "name": "stdout",
     "output_type": "stream",
     "text": [
      "Percentage of women in each group:\n",
      "Group 1\n",
      "10.3190767142\n",
      "Group 2\n",
      "22.6748133062\n",
      "Group 3\n",
      "27.8343516633\n",
      "Group 4\n",
      "39.1717583164\n"
     ]
    },
    {
     "data": {
      "image/png": "[encoded data removed]",
      "text/plain": [
       "<Figure size 432x288 with 1 Axes>"
      ]
     },
     "metadata": {
      "needs_background": "light"
     },
     "output_type": "display_data"
    }
   ],
   "source": [
    "#2 Wife's Education\n",
    "print(\"Percentage of women in each group:\")\n",
    "print(\"Group 1\")\n",
    "print(len(cmc[cmc['Wife_Education']==1])/1473.0 * 100)\n",
    "print(\"Group 2\")\n",
    "print(len(cmc[cmc['Wife_Education']==2])/1473.0 * 100)\n",
    "print(\"Group 3\")\n",
    "print(len(cmc[cmc['Wife_Education']==3])/1473.0 * 100)\n",
    "print(\"Group 4\")\n",
    "print(len(cmc[cmc['Wife_Education']==4])/1473.0 * 100)\n",
    "cmc['Wife_Education'].value_counts().plot(kind='bar')\n",
    "plt.title(\"Wife's Education\")\n",
    "plt.show()"
   ]
  },
  {
   "cell_type": "code",
   "execution_count": 7,
   "metadata": {},
   "outputs": [
    {
     "name": "stdout",
     "output_type": "stream",
     "text": [
      "Percentage of husbands in each group:\n",
      "Group 1\n",
      "2.98710115411\n",
      "Group 2\n",
      "12.0841819416\n",
      "Group 3\n",
      "23.8968092329\n",
      "Group 4\n",
      "61.0319076714\n"
     ]
    },
    {
     "data": {
      "image/png": "[encoded data removed]",
      "text/plain": [
       "<Figure size 432x288 with 1 Axes>"
      ]
     },
     "metadata": {
      "needs_background": "light"
     },
     "output_type": "display_data"
    }
   ],
   "source": [
    "#3 Husband's Education\n",
    "print(\"Percentage of husbands in each group:\")\n",
    "print(\"Group 1\")\n",
    "print(len(cmc[cmc['Husband_Education']==1])/1473.0 * 100)\n",
    "print(\"Group 2\")\n",
    "print(len(cmc[cmc['Husband_Education']==2])/1473.0 * 100)\n",
    "print(\"Group 3\")\n",
    "print(len(cmc[cmc['Husband_Education']==3])/1473.0 * 100)\n",
    "print(\"Group 4\")\n",
    "print(len(cmc[cmc['Husband_Education']==4])/1473.0 * 100)\n",
    "cmc['Husband_Education'].value_counts().plot(kind='bar')\n",
    "plt.title(\"Husband's Education\")\n",
    "plt.show()"
   ]
  },
  {
   "cell_type": "code",
   "execution_count": 8,
   "metadata": {},
   "outputs": [
    {
     "name": "stdout",
     "output_type": "stream",
     "text": [
      "3.26137135098\n",
      "2.35854886269\n",
      "16\n",
      "0\n"
     ]
    },
    {
     "data": {
      "image/png": "[encoded data removed]",
      "text/plain": [
       "<Figure size 432x288 with 1 Axes>"
      ]
     },
     "metadata": {
      "needs_background": "light"
     },
     "output_type": "display_data"
    }
   ],
   "source": [
    "#4 Number of children ever born\n",
    "print(cmc.Number_Of_Children.mean())\n",
    "print(cmc.Number_Of_Children.std())\n",
    "print(cmc.Number_Of_Children.max())\n",
    "print(cmc.Number_Of_Children.min())\n",
    "cmc['Number_Of_Children'].hist(bins=10)\n",
    "plt.title(\"Number Of Children Ever Born\")\n",
    "plt.show()"
   ]
  },
  {
   "cell_type": "code",
   "execution_count": 9,
   "metadata": {},
   "outputs": [
    {
     "name": "stdout",
     "output_type": "stream",
     "text": [
      "Percentage of women in each group:\n",
      "0 = Non-Muslim\n",
      "14.9355057705\n",
      "1 = Muslim\n",
      "85.0644942295\n"
     ]
    },
    {
     "data": {
      "image/png": "[encoded data removed]",
      "text/plain": [
       "<Figure size 432x288 with 1 Axes>"
      ]
     },
     "metadata": {
      "needs_background": "light"
     },
     "output_type": "display_data"
    }
   ],
   "source": [
    "#5 Wife's Religion\n",
    "print(\"Percentage of women in each group:\")\n",
    "print(\"0 = Non-Muslim\")\n",
    "print(len(cmc[cmc['Wife_Religion']==0])/1473.0 * 100)\n",
    "print(\"1 = Muslim\")\n",
    "print(len(cmc[cmc['Wife_Religion']==1])/1473.0 * 100)\n",
    "cmc['Wife_Religion'].value_counts().plot(kind='bar')\n",
    "plt.title(\"Wife's Religion\")\n",
    "plt.show()"
   ]
  },
  {
   "cell_type": "code",
   "execution_count": 10,
   "metadata": {},
   "outputs": [
    {
     "name": "stdout",
     "output_type": "stream",
     "text": [
      "Number of women in each group:\n",
      "0 = Working\n",
      "25.0509164969\n",
      "1 = Not Working\n",
      "74.9490835031\n"
     ]
    },
    {
     "data": {
      "image/png": "[encoded data removed]",
      "text/plain": [
       "<Figure size 432x288 with 1 Axes>"
      ]
     },
     "metadata": {
      "needs_background": "light"
     },
     "output_type": "display_data"
    }
   ],
   "source": [
    "#6 Wife Working Now?\n",
    "print(\"Number of women in each group:\")\n",
    "print(\"0 = Working\")\n",
    "print(len(cmc[cmc['Wife_Working']==0])/1473.0 * 100)\n",
    "print(\"1 = Not Working\")\n",
    "print(len(cmc[cmc['Wife_Working']==1])/1473.0 * 100)\n",
    "cmc['Wife_Working'].value_counts().plot(kind='bar')\n",
    "plt.title(\"Wife Working?\")\n",
    "plt.show()"
   ]
  },
  {
   "cell_type": "code",
   "execution_count": 11,
   "metadata": {},
   "outputs": [
    {
     "name": "stdout",
     "output_type": "stream",
     "text": [
      "Percentage of husbands in each group:\n",
      "Group 1\n",
      "29.5994568907\n",
      "Group 2\n",
      "28.8526816022\n",
      "Group 3\n",
      "39.7148676171\n",
      "Group 4\n",
      "1.83299389002\n"
     ]
    },
    {
     "data": {
      "image/png": "[encoded data removed]",
      "text/plain": [
       "<Figure size 432x288 with 1 Axes>"
      ]
     },
     "metadata": {
      "needs_background": "light"
     },
     "output_type": "display_data"
    }
   ],
   "source": [
    "#7 Husband's Occupation\n",
    "print(\"Percentage of husbands in each group:\")\n",
    "print(\"Group 1\")\n",
    "print(len(cmc[cmc['Husband_Occupation']==1])/1473.0 * 100)\n",
    "print(\"Group 2\")\n",
    "print(len(cmc[cmc['Husband_Occupation']==2])/1473.0 * 100)\n",
    "print(\"Group 3\")\n",
    "print(len(cmc[cmc['Husband_Occupation']==3])/1473.0 * 100)\n",
    "print(\"Group 4\")\n",
    "print(len(cmc[cmc['Husband_Occupation']==4])/1473.0 * 100)\n",
    "cmc['Husband_Occupation'].value_counts().plot(kind='bar')\n",
    "plt.title(\"Husband's Occupation\")\n",
    "plt.show()"
   ]
  },
  {
   "cell_type": "code",
   "execution_count": 12,
   "metadata": {},
   "outputs": [
    {
     "name": "stdout",
     "output_type": "stream",
     "text": [
      "Percentage of women in each group:\n",
      "Group 1\n",
      "8.75763747454\n",
      "Group 2\n",
      "15.5465037339\n",
      "Group 3\n",
      "29.2600135777\n",
      "Group 4\n",
      "46.4358452138\n"
     ]
    },
    {
     "data": {
      "image/png": "[encoded data removed]",
      "text/plain": [
       "<Figure size 432x288 with 1 Axes>"
      ]
     },
     "metadata": {
      "needs_background": "light"
     },
     "output_type": "display_data"
    }
   ],
   "source": [
    "#8 Standard-of-Living Index\n",
    "print(\"Percentage of women in each group:\")\n",
    "print(\"Group 1\")\n",
    "print(len(cmc[cmc['Standard_of_Living']==1])/1473.0 * 100)\n",
    "print(\"Group 2\")\n",
    "print(len(cmc[cmc['Standard_of_Living']==2])/1473.0 * 100)\n",
    "print(\"Group 3\")\n",
    "print(len(cmc[cmc['Standard_of_Living']==3])/1473.0 * 100)\n",
    "print(\"Group 4\")\n",
    "print(len(cmc[cmc['Standard_of_Living']==4])/1473.0 * 100)\n",
    "cmc['Standard_of_Living'].value_counts().plot(kind='bar')\n",
    "plt.title(\"Standard-of-Living Index\")\n",
    "plt.show()"
   ]
  },
  {
   "cell_type": "code",
   "execution_count": 13,
   "metadata": {},
   "outputs": [
    {
     "name": "stdout",
     "output_type": "stream",
     "text": [
      "Percentage of women in each group:\n",
      "Good\n",
      "92.6001357773\n",
      "Not Good\n",
      "7.39986422267\n"
     ]
    },
    {
     "data": {
      "image/png": "[encoded data removed]",
      "text/plain": [
       "<Figure size 432x288 with 1 Axes>"
      ]
     },
     "metadata": {
      "needs_background": "light"
     },
     "output_type": "display_data"
    }
   ],
   "source": [
    "#9 Media Exposure\n",
    "print(\"Percentage of women in each group:\")\n",
    "print(\"Good\")\n",
    "print(len(cmc[cmc['Media_Exposure']==0])/1473.0 * 100)\n",
    "print(\"Not Good\")\n",
    "print(len(cmc[cmc['Media_Exposure']==1])/1473.0 * 100)\n",
    "cmc['Media_Exposure'].value_counts().plot(kind='bar')\n",
    "plt.title(\"Media Exposure\")\n",
    "plt.show()"
   ]
  },
  {
   "cell_type": "code",
   "execution_count": 14,
   "metadata": {},
   "outputs": [
    {
     "name": "stdout",
     "output_type": "stream",
     "text": [
      "Percentage of women in each group:\n",
      "1 = No Contraceptive\n",
      "42.7019687712\n",
      "2 = Long Term Contraceptive\n",
      "22.6069246436\n",
      "3 = Short Term Contraceptive\n",
      "34.6911065852\n"
     ]
    },
    {
     "data": {
      "image/png": "[encoded data removed]",
      "text/plain": [
       "<Figure size 432x288 with 1 Axes>"
      ]
     },
     "metadata": {
      "needs_background": "light"
     },
     "output_type": "display_data"
    }
   ],
   "source": [
    "#10 Contraceptive Method Used\n",
    "print(\"Percentage of women in each group:\")\n",
    "print(\"1 = No Contraceptive\")\n",
    "print(len(cmc[cmc['Contraceptive_Method']==1])/1473.0 * 100)\n",
    "print(\"2 = Long Term Contraceptive\")\n",
    "print(len(cmc[cmc['Contraceptive_Method']==2])/1473.0 * 100)\n",
    "print(\"3 = Short Term Contraceptive\")\n",
    "print(len(cmc[cmc['Contraceptive_Method']==3])/1473.0 * 100)\n",
    "cmc['Contraceptive_Method'].value_counts().plot(kind='bar')\n",
    "plt.title(\"Contraceptive Method Used\")\n",
    "plt.show()"
   ]
  },
  {
   "cell_type": "markdown",
   "metadata": {},
   "source": [
    "#Task 2.2"
   ]
  },
  {
   "cell_type": "code",
   "execution_count": 15,
   "metadata": {},
   "outputs": [
    {
     "data": {
      "image/png": "[encoded data removed]",
      "text/plain": [
       "<Figure size 432x288 with 1 Axes>"
      ]
     },
     "metadata": {
      "needs_background": "light"
     },
     "output_type": "display_data"
    }
   ],
   "source": [
    "#Pair 1 \n",
    "none_c = cmc[cmc['Contraceptive_Method']==1].groupby('Wife_Education')['Wife_Education'].count()\n",
    "long_c = cmc[cmc['Contraceptive_Method']==2].groupby('Wife_Education')['Wife_Education'].count()\n",
    "short_c = cmc[cmc['Contraceptive_Method']==3].groupby('Wife_Education')['Wife_Education'].count()\n",
    "fig = plt.figure()\n",
    "ax = fig.add_subplot(111)\n",
    "index = [1,4,7,10]\n",
    "index1 = [2,5,8,11]\n",
    "index2 = [3,6,9,12]\n",
    "bar_width = 0.35\n",
    "rect1 = ax.bar(index,none_c,bar_width,color='blue',label='no contraceptive')\n",
    "rect2 = ax.bar(index1, long_c,bar_width,color='y',label='long term contraceptive')\n",
    "rect2 = ax.bar(index2, short_c,bar_width,color='red',label='short term contraceptive')\n",
    "ax.set_xlabel('Contraceptive Method Choice')\n",
    "xTickMarks = none_c.index.values.tolist()\n",
    "ax.set_xticks(index1)\n",
    "xtickNames = ax.set_xticklabels(xTickMarks)\n",
    "plt.setp(xtickNames, fontsize=20)\n",
    "ax.set_title('Number of Women')\n",
    "plt.legend()\n",
    "plt.tight_layout()\n",
    "plt.show()\n"
   ]
  },
  {
   "cell_type": "code",
   "execution_count": 16,
   "metadata": {},
   "outputs": [
    {
     "data": {
      "image/png": "[encoded data removed]",
      "text/plain": [
       "<Figure size 432x288 with 1 Axes>"
      ]
     },
     "metadata": {
      "needs_background": "light"
     },
     "output_type": "display_data"
    }
   ],
   "source": [
    "#Pair 2 \n",
    "none_c = cmc[cmc['Contraceptive_Method']==1].groupby('Husband_Education')['Husband_Education'].count()\n",
    "long_c = cmc[cmc['Contraceptive_Method']==2].groupby('Husband_Education')['Husband_Education'].count()\n",
    "short_c = cmc[cmc['Contraceptive_Method']==3].groupby('Husband_Education')['Husband_Education'].count()\n",
    "fig = plt.figure()\n",
    "ax = fig.add_subplot(111)\n",
    "index = [1,4,7,10]\n",
    "index1 = [2,5,8,11]\n",
    "index2 = [3,6,9,12]\n",
    "bar_width = 0.35\n",
    "rect1 = ax.bar(index,none_c,bar_width,color='blue',label='no contraceptive')\n",
    "rect2 = ax.bar(index1, long_c,bar_width,color='y',label='long term contraceptive')\n",
    "rect2 = ax.bar(index2, short_c,bar_width,color='red',label='short term contraceptive')\n",
    "xTickMarks = none_c.index.values.tolist()\n",
    "ax.set_xticks(index1)\n",
    "xtickNames = ax.set_xticklabels(xTickMarks)\n",
    "plt.setp(xtickNames, fontsize=20)\n",
    "ax.set_title('Number of Husbands Whose Wives Chose Contraception')\n",
    "plt.legend()\n",
    "plt.tight_layout()\n",
    "plt.show()"
   ]
  },
  {
   "cell_type": "code",
   "execution_count": 17,
   "metadata": {},
   "outputs": [
    {
     "data": {
      "image/png": "[encoded data removed]",
      "text/plain": [
       "<Figure size 432x288 with 1 Axes>"
      ]
     },
     "metadata": {
      "needs_background": "light"
     },
     "output_type": "display_data"
    }
   ],
   "source": [
    "#Pair 3\n",
    "cmc.groupby('Wife_Working')['Contraceptive_Method'].value_counts().plot(kind='bar')\n",
    "plt.title(\"Influence of Wife's Current Occupation Status on Contraceptive Use\")\n",
    "plt.show()"
   ]
  },
  {
   "cell_type": "code",
   "execution_count": 18,
   "metadata": {},
   "outputs": [
    {
     "data": {
      "image/png": "[encoded data removed]",
      "text/plain": [
       "<Figure size 432x288 with 1 Axes>"
      ]
     },
     "metadata": {
      "needs_background": "light"
     },
     "output_type": "display_data"
    }
   ],
   "source": [
    "#Pair 4 \n",
    "cmc.groupby('Media_Exposure')['Contraceptive_Method'].value_counts().plot(kind='bar')\n",
    "plt.title(\"Influence of Wife's Media Exposure on Contraceptive Use\")\n",
    "plt.show()"
   ]
  },
  {
   "cell_type": "code",
   "execution_count": 19,
   "metadata": {},
   "outputs": [
    {
     "data": {
      "image/png": "[encoded data removed]",
      "text/plain": [
       "<Figure size 432x288 with 1 Axes>"
      ]
     },
     "metadata": {
      "needs_background": "light"
     },
     "output_type": "display_data"
    }
   ],
   "source": [
    "#Pair 5 \n",
    "cmc.groupby('Contraceptive_Method')['Number_Of_Children'].mean().plot(kind='bar')\n",
    "plt.title(\"Influence of Number of Children Ever Born on Contraceptive Use\")\n",
    "plt.show()"
   ]
  },
  {
   "cell_type": "markdown",
   "metadata": {},
   "source": [
    "#Task 2.3 \n"
   ]
  },
  {
   "cell_type": "code",
   "execution_count": 20,
   "metadata": {},
   "outputs": [
    {
     "data": {
      "image/png": "[encoded data removed]",
      "text/plain": [
       "<Figure size 432x288 with 1 Axes>"
      ]
     },
     "metadata": {
      "needs_background": "light"
     },
     "output_type": "display_data"
    }
   ],
   "source": [
    "a = cmc[(cmc['Number_Of_Children']>3) & (cmc['Standard_of_Living']>2)].groupby('Contraceptive_Method')['Contraceptive_Method'].count()\n",
    "fig = plt.figure()\n",
    "ax = fig.add_subplot(111)\n",
    "rect1 = ax.bar(a.index.values.tolist(),a,color='blue',width=0.5)\n",
    "ax.set_title('Number of Women')\n",
    "xTickMarks = a.index.values.tolist()\n",
    "ax.set_xticks(a.index.values.tolist())\n",
    "ax.set_xlabel('Contraceptive Method Choice')\n",
    "xtickNames = ax.set_xticklabels(xTickMarks)\n",
    "plt.setp(xtickNames, fontsize=20)\n",
    "plt.tight_layout()\n",
    "plt.show()"
   ]
  },
  {
   "cell_type": "markdown",
   "metadata": {},
   "source": [
    "#Task 3\n"
   ]
  },
  {
   "cell_type": "code",
   "execution_count": 21,
   "metadata": {},
   "outputs": [],
   "source": [
    "cmc_all = cmc.drop(columns='Contraceptive_Method')\n",
    "target = cmc['Contraceptive_Method']"
   ]
  },
  {
   "cell_type": "code",
   "execution_count": 22,
   "metadata": {},
   "outputs": [
    {
     "data": {
      "text/html": [
       "<div>\n",
       "<style scoped>\n",
       "    .dataframe tbody tr th:only-of-type {\n",
       "        vertical-align: middle;\n",
       "    }\n",
       "\n",
       "    .dataframe tbody tr th {\n",
       "        vertical-align: top;\n",
       "    }\n",
       "\n",
       "    .dataframe thead th {\n",
       "        text-align: right;\n",
       "    }\n",
       "</style>\n",
       "<table border=\"1\" class=\"dataframe\">\n",
       "  <thead>\n",
       "    <tr style=\"text-align: right;\">\n",
       "      <th></th>\n",
       "      <th>Wife_Age</th>\n",
       "      <th>Wife_Education</th>\n",
       "      <th>Husband_Education</th>\n",
       "      <th>Number_Of_Children</th>\n",
       "      <th>Wife_Religion</th>\n",
       "      <th>Wife_Working</th>\n",
       "      <th>Husband_Occupation</th>\n",
       "      <th>Standard_of_Living</th>\n",
       "      <th>Media_Exposure</th>\n",
       "    </tr>\n",
       "  </thead>\n",
       "  <tbody>\n",
       "    <tr>\n",
       "      <th>0</th>\n",
       "      <td>24</td>\n",
       "      <td>2</td>\n",
       "      <td>3</td>\n",
       "      <td>3</td>\n",
       "      <td>1</td>\n",
       "      <td>1</td>\n",
       "      <td>2</td>\n",
       "      <td>3</td>\n",
       "      <td>0</td>\n",
       "    </tr>\n",
       "    <tr>\n",
       "      <th>1</th>\n",
       "      <td>45</td>\n",
       "      <td>1</td>\n",
       "      <td>3</td>\n",
       "      <td>10</td>\n",
       "      <td>1</td>\n",
       "      <td>1</td>\n",
       "      <td>3</td>\n",
       "      <td>4</td>\n",
       "      <td>0</td>\n",
       "    </tr>\n",
       "    <tr>\n",
       "      <th>2</th>\n",
       "      <td>43</td>\n",
       "      <td>2</td>\n",
       "      <td>3</td>\n",
       "      <td>7</td>\n",
       "      <td>1</td>\n",
       "      <td>1</td>\n",
       "      <td>3</td>\n",
       "      <td>4</td>\n",
       "      <td>0</td>\n",
       "    </tr>\n",
       "    <tr>\n",
       "      <th>3</th>\n",
       "      <td>42</td>\n",
       "      <td>3</td>\n",
       "      <td>2</td>\n",
       "      <td>9</td>\n",
       "      <td>1</td>\n",
       "      <td>1</td>\n",
       "      <td>3</td>\n",
       "      <td>3</td>\n",
       "      <td>0</td>\n",
       "    </tr>\n",
       "    <tr>\n",
       "      <th>4</th>\n",
       "      <td>36</td>\n",
       "      <td>3</td>\n",
       "      <td>3</td>\n",
       "      <td>8</td>\n",
       "      <td>1</td>\n",
       "      <td>1</td>\n",
       "      <td>3</td>\n",
       "      <td>2</td>\n",
       "      <td>0</td>\n",
       "    </tr>\n",
       "    <tr>\n",
       "      <th>5</th>\n",
       "      <td>19</td>\n",
       "      <td>4</td>\n",
       "      <td>4</td>\n",
       "      <td>0</td>\n",
       "      <td>1</td>\n",
       "      <td>1</td>\n",
       "      <td>3</td>\n",
       "      <td>3</td>\n",
       "      <td>0</td>\n",
       "    </tr>\n",
       "    <tr>\n",
       "      <th>6</th>\n",
       "      <td>38</td>\n",
       "      <td>2</td>\n",
       "      <td>3</td>\n",
       "      <td>6</td>\n",
       "      <td>1</td>\n",
       "      <td>1</td>\n",
       "      <td>3</td>\n",
       "      <td>2</td>\n",
       "      <td>0</td>\n",
       "    </tr>\n",
       "    <tr>\n",
       "      <th>7</th>\n",
       "      <td>21</td>\n",
       "      <td>3</td>\n",
       "      <td>3</td>\n",
       "      <td>1</td>\n",
       "      <td>1</td>\n",
       "      <td>0</td>\n",
       "      <td>3</td>\n",
       "      <td>2</td>\n",
       "      <td>0</td>\n",
       "    </tr>\n",
       "    <tr>\n",
       "      <th>8</th>\n",
       "      <td>27</td>\n",
       "      <td>2</td>\n",
       "      <td>3</td>\n",
       "      <td>3</td>\n",
       "      <td>1</td>\n",
       "      <td>1</td>\n",
       "      <td>3</td>\n",
       "      <td>4</td>\n",
       "      <td>0</td>\n",
       "    </tr>\n",
       "    <tr>\n",
       "      <th>9</th>\n",
       "      <td>45</td>\n",
       "      <td>1</td>\n",
       "      <td>1</td>\n",
       "      <td>8</td>\n",
       "      <td>1</td>\n",
       "      <td>1</td>\n",
       "      <td>2</td>\n",
       "      <td>2</td>\n",
       "      <td>1</td>\n",
       "    </tr>\n",
       "    <tr>\n",
       "      <th>10</th>\n",
       "      <td>38</td>\n",
       "      <td>1</td>\n",
       "      <td>3</td>\n",
       "      <td>2</td>\n",
       "      <td>1</td>\n",
       "      <td>0</td>\n",
       "      <td>3</td>\n",
       "      <td>3</td>\n",
       "      <td>1</td>\n",
       "    </tr>\n",
       "    <tr>\n",
       "      <th>11</th>\n",
       "      <td>42</td>\n",
       "      <td>1</td>\n",
       "      <td>4</td>\n",
       "      <td>4</td>\n",
       "      <td>1</td>\n",
       "      <td>1</td>\n",
       "      <td>1</td>\n",
       "      <td>3</td>\n",
       "      <td>0</td>\n",
       "    </tr>\n",
       "    <tr>\n",
       "      <th>12</th>\n",
       "      <td>44</td>\n",
       "      <td>4</td>\n",
       "      <td>4</td>\n",
       "      <td>1</td>\n",
       "      <td>1</td>\n",
       "      <td>0</td>\n",
       "      <td>1</td>\n",
       "      <td>4</td>\n",
       "      <td>0</td>\n",
       "    </tr>\n",
       "    <tr>\n",
       "      <th>13</th>\n",
       "      <td>42</td>\n",
       "      <td>2</td>\n",
       "      <td>4</td>\n",
       "      <td>1</td>\n",
       "      <td>1</td>\n",
       "      <td>0</td>\n",
       "      <td>3</td>\n",
       "      <td>3</td>\n",
       "      <td>0</td>\n",
       "    </tr>\n",
       "    <tr>\n",
       "      <th>14</th>\n",
       "      <td>38</td>\n",
       "      <td>3</td>\n",
       "      <td>4</td>\n",
       "      <td>2</td>\n",
       "      <td>1</td>\n",
       "      <td>1</td>\n",
       "      <td>2</td>\n",
       "      <td>3</td>\n",
       "      <td>0</td>\n",
       "    </tr>\n",
       "    <tr>\n",
       "      <th>15</th>\n",
       "      <td>26</td>\n",
       "      <td>2</td>\n",
       "      <td>4</td>\n",
       "      <td>0</td>\n",
       "      <td>1</td>\n",
       "      <td>1</td>\n",
       "      <td>4</td>\n",
       "      <td>1</td>\n",
       "      <td>0</td>\n",
       "    </tr>\n",
       "    <tr>\n",
       "      <th>16</th>\n",
       "      <td>48</td>\n",
       "      <td>1</td>\n",
       "      <td>1</td>\n",
       "      <td>7</td>\n",
       "      <td>1</td>\n",
       "      <td>1</td>\n",
       "      <td>2</td>\n",
       "      <td>4</td>\n",
       "      <td>0</td>\n",
       "    </tr>\n",
       "    <tr>\n",
       "      <th>17</th>\n",
       "      <td>39</td>\n",
       "      <td>2</td>\n",
       "      <td>2</td>\n",
       "      <td>6</td>\n",
       "      <td>1</td>\n",
       "      <td>1</td>\n",
       "      <td>2</td>\n",
       "      <td>4</td>\n",
       "      <td>0</td>\n",
       "    </tr>\n",
       "    <tr>\n",
       "      <th>18</th>\n",
       "      <td>37</td>\n",
       "      <td>2</td>\n",
       "      <td>2</td>\n",
       "      <td>8</td>\n",
       "      <td>1</td>\n",
       "      <td>1</td>\n",
       "      <td>2</td>\n",
       "      <td>3</td>\n",
       "      <td>0</td>\n",
       "    </tr>\n",
       "    <tr>\n",
       "      <th>19</th>\n",
       "      <td>39</td>\n",
       "      <td>2</td>\n",
       "      <td>1</td>\n",
       "      <td>5</td>\n",
       "      <td>1</td>\n",
       "      <td>1</td>\n",
       "      <td>2</td>\n",
       "      <td>1</td>\n",
       "      <td>1</td>\n",
       "    </tr>\n",
       "    <tr>\n",
       "      <th>20</th>\n",
       "      <td>26</td>\n",
       "      <td>3</td>\n",
       "      <td>4</td>\n",
       "      <td>1</td>\n",
       "      <td>1</td>\n",
       "      <td>0</td>\n",
       "      <td>4</td>\n",
       "      <td>1</td>\n",
       "      <td>0</td>\n",
       "    </tr>\n",
       "    <tr>\n",
       "      <th>21</th>\n",
       "      <td>24</td>\n",
       "      <td>3</td>\n",
       "      <td>4</td>\n",
       "      <td>0</td>\n",
       "      <td>1</td>\n",
       "      <td>0</td>\n",
       "      <td>3</td>\n",
       "      <td>1</td>\n",
       "      <td>0</td>\n",
       "    </tr>\n",
       "    <tr>\n",
       "      <th>22</th>\n",
       "      <td>46</td>\n",
       "      <td>4</td>\n",
       "      <td>4</td>\n",
       "      <td>1</td>\n",
       "      <td>0</td>\n",
       "      <td>1</td>\n",
       "      <td>1</td>\n",
       "      <td>4</td>\n",
       "      <td>0</td>\n",
       "    </tr>\n",
       "    <tr>\n",
       "      <th>23</th>\n",
       "      <td>39</td>\n",
       "      <td>4</td>\n",
       "      <td>4</td>\n",
       "      <td>1</td>\n",
       "      <td>1</td>\n",
       "      <td>1</td>\n",
       "      <td>1</td>\n",
       "      <td>4</td>\n",
       "      <td>0</td>\n",
       "    </tr>\n",
       "    <tr>\n",
       "      <th>24</th>\n",
       "      <td>48</td>\n",
       "      <td>4</td>\n",
       "      <td>4</td>\n",
       "      <td>5</td>\n",
       "      <td>1</td>\n",
       "      <td>1</td>\n",
       "      <td>1</td>\n",
       "      <td>4</td>\n",
       "      <td>0</td>\n",
       "    </tr>\n",
       "    <tr>\n",
       "      <th>25</th>\n",
       "      <td>40</td>\n",
       "      <td>2</td>\n",
       "      <td>4</td>\n",
       "      <td>8</td>\n",
       "      <td>1</td>\n",
       "      <td>1</td>\n",
       "      <td>3</td>\n",
       "      <td>3</td>\n",
       "      <td>0</td>\n",
       "    </tr>\n",
       "    <tr>\n",
       "      <th>26</th>\n",
       "      <td>38</td>\n",
       "      <td>4</td>\n",
       "      <td>4</td>\n",
       "      <td>1</td>\n",
       "      <td>1</td>\n",
       "      <td>0</td>\n",
       "      <td>1</td>\n",
       "      <td>4</td>\n",
       "      <td>0</td>\n",
       "    </tr>\n",
       "    <tr>\n",
       "      <th>27</th>\n",
       "      <td>29</td>\n",
       "      <td>4</td>\n",
       "      <td>4</td>\n",
       "      <td>0</td>\n",
       "      <td>1</td>\n",
       "      <td>0</td>\n",
       "      <td>1</td>\n",
       "      <td>4</td>\n",
       "      <td>0</td>\n",
       "    </tr>\n",
       "    <tr>\n",
       "      <th>28</th>\n",
       "      <td>24</td>\n",
       "      <td>4</td>\n",
       "      <td>4</td>\n",
       "      <td>0</td>\n",
       "      <td>1</td>\n",
       "      <td>0</td>\n",
       "      <td>2</td>\n",
       "      <td>2</td>\n",
       "      <td>0</td>\n",
       "    </tr>\n",
       "    <tr>\n",
       "      <th>29</th>\n",
       "      <td>43</td>\n",
       "      <td>1</td>\n",
       "      <td>2</td>\n",
       "      <td>8</td>\n",
       "      <td>1</td>\n",
       "      <td>1</td>\n",
       "      <td>2</td>\n",
       "      <td>4</td>\n",
       "      <td>0</td>\n",
       "    </tr>\n",
       "    <tr>\n",
       "      <th>...</th>\n",
       "      <td>...</td>\n",
       "      <td>...</td>\n",
       "      <td>...</td>\n",
       "      <td>...</td>\n",
       "      <td>...</td>\n",
       "      <td>...</td>\n",
       "      <td>...</td>\n",
       "      <td>...</td>\n",
       "      <td>...</td>\n",
       "    </tr>\n",
       "    <tr>\n",
       "      <th>1443</th>\n",
       "      <td>21</td>\n",
       "      <td>2</td>\n",
       "      <td>2</td>\n",
       "      <td>0</td>\n",
       "      <td>0</td>\n",
       "      <td>1</td>\n",
       "      <td>4</td>\n",
       "      <td>4</td>\n",
       "      <td>0</td>\n",
       "    </tr>\n",
       "    <tr>\n",
       "      <th>1444</th>\n",
       "      <td>22</td>\n",
       "      <td>4</td>\n",
       "      <td>4</td>\n",
       "      <td>2</td>\n",
       "      <td>1</td>\n",
       "      <td>1</td>\n",
       "      <td>3</td>\n",
       "      <td>4</td>\n",
       "      <td>0</td>\n",
       "    </tr>\n",
       "    <tr>\n",
       "      <th>1445</th>\n",
       "      <td>36</td>\n",
       "      <td>4</td>\n",
       "      <td>4</td>\n",
       "      <td>3</td>\n",
       "      <td>0</td>\n",
       "      <td>1</td>\n",
       "      <td>3</td>\n",
       "      <td>4</td>\n",
       "      <td>0</td>\n",
       "    </tr>\n",
       "    <tr>\n",
       "      <th>1446</th>\n",
       "      <td>45</td>\n",
       "      <td>2</td>\n",
       "      <td>3</td>\n",
       "      <td>3</td>\n",
       "      <td>0</td>\n",
       "      <td>0</td>\n",
       "      <td>2</td>\n",
       "      <td>4</td>\n",
       "      <td>0</td>\n",
       "    </tr>\n",
       "    <tr>\n",
       "      <th>1447</th>\n",
       "      <td>34</td>\n",
       "      <td>4</td>\n",
       "      <td>4</td>\n",
       "      <td>2</td>\n",
       "      <td>0</td>\n",
       "      <td>0</td>\n",
       "      <td>2</td>\n",
       "      <td>4</td>\n",
       "      <td>0</td>\n",
       "    </tr>\n",
       "    <tr>\n",
       "      <th>1448</th>\n",
       "      <td>35</td>\n",
       "      <td>2</td>\n",
       "      <td>3</td>\n",
       "      <td>5</td>\n",
       "      <td>1</td>\n",
       "      <td>1</td>\n",
       "      <td>3</td>\n",
       "      <td>3</td>\n",
       "      <td>0</td>\n",
       "    </tr>\n",
       "    <tr>\n",
       "      <th>1449</th>\n",
       "      <td>19</td>\n",
       "      <td>4</td>\n",
       "      <td>4</td>\n",
       "      <td>1</td>\n",
       "      <td>1</td>\n",
       "      <td>1</td>\n",
       "      <td>2</td>\n",
       "      <td>3</td>\n",
       "      <td>0</td>\n",
       "    </tr>\n",
       "    <tr>\n",
       "      <th>1450</th>\n",
       "      <td>27</td>\n",
       "      <td>4</td>\n",
       "      <td>4</td>\n",
       "      <td>4</td>\n",
       "      <td>1</td>\n",
       "      <td>1</td>\n",
       "      <td>3</td>\n",
       "      <td>3</td>\n",
       "      <td>0</td>\n",
       "    </tr>\n",
       "    <tr>\n",
       "      <th>1451</th>\n",
       "      <td>37</td>\n",
       "      <td>2</td>\n",
       "      <td>4</td>\n",
       "      <td>4</td>\n",
       "      <td>1</td>\n",
       "      <td>0</td>\n",
       "      <td>2</td>\n",
       "      <td>3</td>\n",
       "      <td>0</td>\n",
       "    </tr>\n",
       "    <tr>\n",
       "      <th>1452</th>\n",
       "      <td>26</td>\n",
       "      <td>3</td>\n",
       "      <td>2</td>\n",
       "      <td>4</td>\n",
       "      <td>1</td>\n",
       "      <td>1</td>\n",
       "      <td>3</td>\n",
       "      <td>4</td>\n",
       "      <td>0</td>\n",
       "    </tr>\n",
       "    <tr>\n",
       "      <th>1453</th>\n",
       "      <td>28</td>\n",
       "      <td>1</td>\n",
       "      <td>3</td>\n",
       "      <td>5</td>\n",
       "      <td>1</td>\n",
       "      <td>1</td>\n",
       "      <td>3</td>\n",
       "      <td>4</td>\n",
       "      <td>0</td>\n",
       "    </tr>\n",
       "    <tr>\n",
       "      <th>1454</th>\n",
       "      <td>31</td>\n",
       "      <td>3</td>\n",
       "      <td>4</td>\n",
       "      <td>5</td>\n",
       "      <td>1</td>\n",
       "      <td>1</td>\n",
       "      <td>1</td>\n",
       "      <td>4</td>\n",
       "      <td>0</td>\n",
       "    </tr>\n",
       "    <tr>\n",
       "      <th>1455</th>\n",
       "      <td>32</td>\n",
       "      <td>2</td>\n",
       "      <td>2</td>\n",
       "      <td>6</td>\n",
       "      <td>1</td>\n",
       "      <td>1</td>\n",
       "      <td>2</td>\n",
       "      <td>3</td>\n",
       "      <td>0</td>\n",
       "    </tr>\n",
       "    <tr>\n",
       "      <th>1456</th>\n",
       "      <td>40</td>\n",
       "      <td>2</td>\n",
       "      <td>2</td>\n",
       "      <td>4</td>\n",
       "      <td>0</td>\n",
       "      <td>0</td>\n",
       "      <td>2</td>\n",
       "      <td>4</td>\n",
       "      <td>0</td>\n",
       "    </tr>\n",
       "    <tr>\n",
       "      <th>1457</th>\n",
       "      <td>27</td>\n",
       "      <td>3</td>\n",
       "      <td>3</td>\n",
       "      <td>5</td>\n",
       "      <td>1</td>\n",
       "      <td>1</td>\n",
       "      <td>2</td>\n",
       "      <td>4</td>\n",
       "      <td>0</td>\n",
       "    </tr>\n",
       "    <tr>\n",
       "      <th>1458</th>\n",
       "      <td>27</td>\n",
       "      <td>2</td>\n",
       "      <td>2</td>\n",
       "      <td>3</td>\n",
       "      <td>1</td>\n",
       "      <td>1</td>\n",
       "      <td>2</td>\n",
       "      <td>2</td>\n",
       "      <td>1</td>\n",
       "    </tr>\n",
       "    <tr>\n",
       "      <th>1459</th>\n",
       "      <td>37</td>\n",
       "      <td>4</td>\n",
       "      <td>4</td>\n",
       "      <td>5</td>\n",
       "      <td>0</td>\n",
       "      <td>0</td>\n",
       "      <td>2</td>\n",
       "      <td>4</td>\n",
       "      <td>0</td>\n",
       "    </tr>\n",
       "    <tr>\n",
       "      <th>1460</th>\n",
       "      <td>22</td>\n",
       "      <td>4</td>\n",
       "      <td>3</td>\n",
       "      <td>1</td>\n",
       "      <td>1</td>\n",
       "      <td>1</td>\n",
       "      <td>2</td>\n",
       "      <td>2</td>\n",
       "      <td>0</td>\n",
       "    </tr>\n",
       "    <tr>\n",
       "      <th>1461</th>\n",
       "      <td>27</td>\n",
       "      <td>4</td>\n",
       "      <td>4</td>\n",
       "      <td>4</td>\n",
       "      <td>1</td>\n",
       "      <td>1</td>\n",
       "      <td>1</td>\n",
       "      <td>2</td>\n",
       "      <td>1</td>\n",
       "    </tr>\n",
       "    <tr>\n",
       "      <th>1462</th>\n",
       "      <td>21</td>\n",
       "      <td>4</td>\n",
       "      <td>4</td>\n",
       "      <td>1</td>\n",
       "      <td>0</td>\n",
       "      <td>1</td>\n",
       "      <td>2</td>\n",
       "      <td>4</td>\n",
       "      <td>0</td>\n",
       "    </tr>\n",
       "    <tr>\n",
       "      <th>1463</th>\n",
       "      <td>30</td>\n",
       "      <td>1</td>\n",
       "      <td>3</td>\n",
       "      <td>2</td>\n",
       "      <td>1</td>\n",
       "      <td>1</td>\n",
       "      <td>3</td>\n",
       "      <td>4</td>\n",
       "      <td>0</td>\n",
       "    </tr>\n",
       "    <tr>\n",
       "      <th>1464</th>\n",
       "      <td>23</td>\n",
       "      <td>2</td>\n",
       "      <td>2</td>\n",
       "      <td>1</td>\n",
       "      <td>1</td>\n",
       "      <td>1</td>\n",
       "      <td>2</td>\n",
       "      <td>4</td>\n",
       "      <td>0</td>\n",
       "    </tr>\n",
       "    <tr>\n",
       "      <th>1465</th>\n",
       "      <td>25</td>\n",
       "      <td>2</td>\n",
       "      <td>4</td>\n",
       "      <td>3</td>\n",
       "      <td>1</td>\n",
       "      <td>1</td>\n",
       "      <td>1</td>\n",
       "      <td>3</td>\n",
       "      <td>0</td>\n",
       "    </tr>\n",
       "    <tr>\n",
       "      <th>1466</th>\n",
       "      <td>42</td>\n",
       "      <td>2</td>\n",
       "      <td>4</td>\n",
       "      <td>6</td>\n",
       "      <td>1</td>\n",
       "      <td>1</td>\n",
       "      <td>2</td>\n",
       "      <td>4</td>\n",
       "      <td>0</td>\n",
       "    </tr>\n",
       "    <tr>\n",
       "      <th>1467</th>\n",
       "      <td>29</td>\n",
       "      <td>4</td>\n",
       "      <td>4</td>\n",
       "      <td>3</td>\n",
       "      <td>1</td>\n",
       "      <td>1</td>\n",
       "      <td>1</td>\n",
       "      <td>4</td>\n",
       "      <td>0</td>\n",
       "    </tr>\n",
       "    <tr>\n",
       "      <th>1468</th>\n",
       "      <td>33</td>\n",
       "      <td>4</td>\n",
       "      <td>4</td>\n",
       "      <td>2</td>\n",
       "      <td>1</td>\n",
       "      <td>0</td>\n",
       "      <td>2</td>\n",
       "      <td>4</td>\n",
       "      <td>0</td>\n",
       "    </tr>\n",
       "    <tr>\n",
       "      <th>1469</th>\n",
       "      <td>33</td>\n",
       "      <td>4</td>\n",
       "      <td>4</td>\n",
       "      <td>3</td>\n",
       "      <td>1</td>\n",
       "      <td>1</td>\n",
       "      <td>1</td>\n",
       "      <td>4</td>\n",
       "      <td>0</td>\n",
       "    </tr>\n",
       "    <tr>\n",
       "      <th>1470</th>\n",
       "      <td>39</td>\n",
       "      <td>3</td>\n",
       "      <td>3</td>\n",
       "      <td>8</td>\n",
       "      <td>1</td>\n",
       "      <td>0</td>\n",
       "      <td>1</td>\n",
       "      <td>4</td>\n",
       "      <td>0</td>\n",
       "    </tr>\n",
       "    <tr>\n",
       "      <th>1471</th>\n",
       "      <td>33</td>\n",
       "      <td>3</td>\n",
       "      <td>3</td>\n",
       "      <td>4</td>\n",
       "      <td>1</td>\n",
       "      <td>0</td>\n",
       "      <td>2</td>\n",
       "      <td>2</td>\n",
       "      <td>0</td>\n",
       "    </tr>\n",
       "    <tr>\n",
       "      <th>1472</th>\n",
       "      <td>17</td>\n",
       "      <td>3</td>\n",
       "      <td>3</td>\n",
       "      <td>1</td>\n",
       "      <td>1</td>\n",
       "      <td>1</td>\n",
       "      <td>2</td>\n",
       "      <td>4</td>\n",
       "      <td>0</td>\n",
       "    </tr>\n",
       "  </tbody>\n",
       "</table>\n",
       "<p>1473 rows × 9 columns</p>\n",
       "</div>"
      ],
      "text/plain": [
       "      Wife_Age  Wife_Education  Husband_Education  Number_Of_Children  \\\n",
       "0           24               2                  3                   3   \n",
       "1           45               1                  3                  10   \n",
       "2           43               2                  3                   7   \n",
       "3           42               3                  2                   9   \n",
       "4           36               3                  3                   8   \n",
       "5           19               4                  4                   0   \n",
       "6           38               2                  3                   6   \n",
       "7           21               3                  3                   1   \n",
       "8           27               2                  3                   3   \n",
       "9           45               1                  1                   8   \n",
       "10          38               1                  3                   2   \n",
       "11          42               1                  4                   4   \n",
       "12          44               4                  4                   1   \n",
       "13          42               2                  4                   1   \n",
       "14          38               3                  4                   2   \n",
       "15          26               2                  4                   0   \n",
       "16          48               1                  1                   7   \n",
       "17          39               2                  2                   6   \n",
       "18          37               2                  2                   8   \n",
       "19          39               2                  1                   5   \n",
       "20          26               3                  4                   1   \n",
       "21          24               3                  4                   0   \n",
       "22          46               4                  4                   1   \n",
       "23          39               4                  4                   1   \n",
       "24          48               4                  4                   5   \n",
       "25          40               2                  4                   8   \n",
       "26          38               4                  4                   1   \n",
       "27          29               4                  4                   0   \n",
       "28          24               4                  4                   0   \n",
       "29          43               1                  2                   8   \n",
       "...        ...             ...                ...                 ...   \n",
       "1443        21               2                  2                   0   \n",
       "1444        22               4                  4                   2   \n",
       "1445        36               4                  4                   3   \n",
       "1446        45               2                  3                   3   \n",
       "1447        34               4                  4                   2   \n",
       "1448        35               2                  3                   5   \n",
       "1449        19               4                  4                   1   \n",
       "1450        27               4                  4                   4   \n",
       "1451        37               2                  4                   4   \n",
       "1452        26               3                  2                   4   \n",
       "1453        28               1                  3                   5   \n",
       "1454        31               3                  4                   5   \n",
       "1455        32               2                  2                   6   \n",
       "1456        40               2                  2                   4   \n",
       "1457        27               3                  3                   5   \n",
       "1458        27               2                  2                   3   \n",
       "1459        37               4                  4                   5   \n",
       "1460        22               4                  3                   1   \n",
       "1461        27               4                  4                   4   \n",
       "1462        21               4                  4                   1   \n",
       "1463        30               1                  3                   2   \n",
       "1464        23               2                  2                   1   \n",
       "1465        25               2                  4                   3   \n",
       "1466        42               2                  4                   6   \n",
       "1467        29               4                  4                   3   \n",
       "1468        33               4                  4                   2   \n",
       "1469        33               4                  4                   3   \n",
       "1470        39               3                  3                   8   \n",
       "1471        33               3                  3                   4   \n",
       "1472        17               3                  3                   1   \n",
       "\n",
       "      Wife_Religion  Wife_Working  Husband_Occupation  Standard_of_Living  \\\n",
       "0                 1             1                   2                   3   \n",
       "1                 1             1                   3                   4   \n",
       "2                 1             1                   3                   4   \n",
       "3                 1             1                   3                   3   \n",
       "4                 1             1                   3                   2   \n",
       "5                 1             1                   3                   3   \n",
       "6                 1             1                   3                   2   \n",
       "7                 1             0                   3                   2   \n",
       "8                 1             1                   3                   4   \n",
       "9                 1             1                   2                   2   \n",
       "10                1             0                   3                   3   \n",
       "11                1             1                   1                   3   \n",
       "12                1             0                   1                   4   \n",
       "13                1             0                   3                   3   \n",
       "14                1             1                   2                   3   \n",
       "15                1             1                   4                   1   \n",
       "16                1             1                   2                   4   \n",
       "17                1             1                   2                   4   \n",
       "18                1             1                   2                   3   \n",
       "19                1             1                   2                   1   \n",
       "20                1             0                   4                   1   \n",
       "21                1             0                   3                   1   \n",
       "22                0             1                   1                   4   \n",
       "23                1             1                   1                   4   \n",
       "24                1             1                   1                   4   \n",
       "25                1             1                   3                   3   \n",
       "26                1             0                   1                   4   \n",
       "27                1             0                   1                   4   \n",
       "28                1             0                   2                   2   \n",
       "29                1             1                   2                   4   \n",
       "...             ...           ...                 ...                 ...   \n",
       "1443              0             1                   4                   4   \n",
       "1444              1             1                   3                   4   \n",
       "1445              0             1                   3                   4   \n",
       "1446              0             0                   2                   4   \n",
       "1447              0             0                   2                   4   \n",
       "1448              1             1                   3                   3   \n",
       "1449              1             1                   2                   3   \n",
       "1450              1             1                   3                   3   \n",
       "1451              1             0                   2                   3   \n",
       "1452              1             1                   3                   4   \n",
       "1453              1             1                   3                   4   \n",
       "1454              1             1                   1                   4   \n",
       "1455              1             1                   2                   3   \n",
       "1456              0             0                   2                   4   \n",
       "1457              1             1                   2                   4   \n",
       "1458              1             1                   2                   2   \n",
       "1459              0             0                   2                   4   \n",
       "1460              1             1                   2                   2   \n",
       "1461              1             1                   1                   2   \n",
       "1462              0             1                   2                   4   \n",
       "1463              1             1                   3                   4   \n",
       "1464              1             1                   2                   4   \n",
       "1465              1             1                   1                   3   \n",
       "1466              1             1                   2                   4   \n",
       "1467              1             1                   1                   4   \n",
       "1468              1             0                   2                   4   \n",
       "1469              1             1                   1                   4   \n",
       "1470              1             0                   1                   4   \n",
       "1471              1             0                   2                   2   \n",
       "1472              1             1                   2                   4   \n",
       "\n",
       "      Media_Exposure  \n",
       "0                  0  \n",
       "1                  0  \n",
       "2                  0  \n",
       "3                  0  \n",
       "4                  0  \n",
       "5                  0  \n",
       "6                  0  \n",
       "7                  0  \n",
       "8                  0  \n",
       "9                  1  \n",
       "10                 1  \n",
       "11                 0  \n",
       "12                 0  \n",
       "13                 0  \n",
       "14                 0  \n",
       "15                 0  \n",
       "16                 0  \n",
       "17                 0  \n",
       "18                 0  \n",
       "19                 1  \n",
       "20                 0  \n",
       "21                 0  \n",
       "22                 0  \n",
       "23                 0  \n",
       "24                 0  \n",
       "25                 0  \n",
       "26                 0  \n",
       "27                 0  \n",
       "28                 0  \n",
       "29                 0  \n",
       "...              ...  \n",
       "1443               0  \n",
       "1444               0  \n",
       "1445               0  \n",
       "1446               0  \n",
       "1447               0  \n",
       "1448               0  \n",
       "1449               0  \n",
       "1450               0  \n",
       "1451               0  \n",
       "1452               0  \n",
       "1453               0  \n",
       "1454               0  \n",
       "1455               0  \n",
       "1456               0  \n",
       "1457               0  \n",
       "1458               1  \n",
       "1459               0  \n",
       "1460               0  \n",
       "1461               1  \n",
       "1462               0  \n",
       "1463               0  \n",
       "1464               0  \n",
       "1465               0  \n",
       "1466               0  \n",
       "1467               0  \n",
       "1468               0  \n",
       "1469               0  \n",
       "1470               0  \n",
       "1471               0  \n",
       "1472               0  \n",
       "\n",
       "[1473 rows x 9 columns]"
      ]
     },
     "execution_count": 22,
     "metadata": {},
     "output_type": "execute_result"
    }
   ],
   "source": [
    "cmc_all = pd.get_dummies(cmc_all)\n",
    "cmc_all.columns\n",
    "cmc_all"
   ]
  },
  {
   "cell_type": "code",
   "execution_count": 23,
   "metadata": {},
   "outputs": [
    {
     "data": {
      "text/plain": [
       "(1473, 9)"
      ]
     },
     "execution_count": 23,
     "metadata": {},
     "output_type": "execute_result"
    }
   ],
   "source": [
    "cmc_all.shape"
   ]
  },
  {
   "cell_type": "code",
   "execution_count": 24,
   "metadata": {},
   "outputs": [
    {
     "data": {
      "text/plain": [
       "1    629\n",
       "3    511\n",
       "2    333\n",
       "Name: Contraceptive_Method, dtype: int64"
      ]
     },
     "execution_count": 24,
     "metadata": {},
     "output_type": "execute_result"
    }
   ],
   "source": [
    "target.value_counts()"
   ]
  },
  {
   "cell_type": "code",
   "execution_count": 25,
   "metadata": {},
   "outputs": [],
   "source": [
    "X=cmc_all\n",
    "Y=target"
   ]
  },
  {
   "cell_type": "markdown",
   "metadata": {},
   "source": [
    "#Task 3.1 and #Task 3.2"
   ]
  },
  {
   "cell_type": "markdown",
   "metadata": {},
   "source": [
    "Suite1: 50% for training and 50% for testing"
   ]
  },
  {
   "cell_type": "code",
   "execution_count": 26,
   "metadata": {},
   "outputs": [],
   "source": [
    "X_train_50, X_test_50, Y_train_50, Y_test_50 = train_test_split(X, Y, test_size=0.50, random_state=0)"
   ]
  },
  {
   "cell_type": "markdown",
   "metadata": {},
   "source": [
    "K-NN"
   ]
  },
  {
   "cell_type": "code",
   "execution_count": 27,
   "metadata": {},
   "outputs": [
    {
     "name": "stdout",
     "output_type": "stream",
     "text": [
      "--------------------\n",
      "('k =', 5)\n",
      "Confusion matrix: \n",
      "[[185  46  79]\n",
      " [ 69  70  37]\n",
      " [ 94  61  96]]\n",
      "Accuracy: 0.48\n",
      "--------------------\n",
      "Classification Report:\n",
      "              precision    recall  f1-score   support\n",
      "\n",
      "           1       0.53      0.60      0.56       310\n",
      "           2       0.40      0.40      0.40       176\n",
      "           3       0.45      0.38      0.41       251\n",
      "\n",
      "   micro avg       0.48      0.48      0.48       737\n",
      "   macro avg       0.46      0.46      0.46       737\n",
      "weighted avg       0.47      0.48      0.47       737\n",
      "\n",
      "--------------------\n",
      "('k =', 10)\n",
      "Confusion matrix: \n",
      "[[185  34  91]\n",
      " [ 58  75  43]\n",
      " [ 76  58 117]]\n",
      "Accuracy: 0.51\n",
      "--------------------\n",
      "Classification Report:\n",
      "              precision    recall  f1-score   support\n",
      "\n",
      "           1       0.58      0.60      0.59       310\n",
      "           2       0.45      0.43      0.44       176\n",
      "           3       0.47      0.47      0.47       251\n",
      "\n",
      "   micro avg       0.51      0.51      0.51       737\n",
      "   macro avg       0.50      0.50      0.50       737\n",
      "weighted avg       0.51      0.51      0.51       737\n",
      "\n",
      "--------------------\n",
      "('k =', 15)\n",
      "Confusion matrix: \n",
      "[[184  31  95]\n",
      " [ 54  74  48]\n",
      " [ 77  47 127]]\n",
      "Accuracy: 0.52\n",
      "--------------------\n",
      "Classification Report:\n",
      "              precision    recall  f1-score   support\n",
      "\n",
      "           1       0.58      0.59      0.59       310\n",
      "           2       0.49      0.42      0.45       176\n",
      "           3       0.47      0.51      0.49       251\n",
      "\n",
      "   micro avg       0.52      0.52      0.52       737\n",
      "   macro avg       0.51      0.51      0.51       737\n",
      "weighted avg       0.52      0.52      0.52       737\n",
      "\n",
      "--------------------\n",
      "('k =', 20)\n",
      "Confusion matrix: \n",
      "[[187  31  92]\n",
      " [ 59  67  50]\n",
      " [ 75  48 128]]\n",
      "Accuracy: 0.52\n",
      "--------------------\n",
      "Classification Report:\n",
      "              precision    recall  f1-score   support\n",
      "\n",
      "           1       0.58      0.60      0.59       310\n",
      "           2       0.46      0.38      0.42       176\n",
      "           3       0.47      0.51      0.49       251\n",
      "\n",
      "   micro avg       0.52      0.52      0.52       737\n",
      "   macro avg       0.51      0.50      0.50       737\n",
      "weighted avg       0.52      0.52      0.52       737\n",
      "\n"
     ]
    }
   ],
   "source": [
    "kValues = [5, 10, 15, 20]\n",
    "for eachK in kValues:\n",
    "    # Training\n",
    "    eachModel = KNeighborsClassifier(n_neighbors=eachK)\n",
    "    eachModel.fit(X_train_50, Y_train_50)\n",
    "    # Testing\n",
    "    print('-'*20)\n",
    "    print('k =', eachK)\n",
    "    eachPred = eachModel.predict(X_test_50)\n",
    "    print('Confusion matrix: ')\n",
    "    print(confusion_matrix(Y_test_50, eachPred))\n",
    "    print('Accuracy: %.2f' % accuracy_score(Y_test_50, eachPred))\n",
    "    print('-'*20)\n",
    "    print('Classification Report:')\n",
    "    print(classification_report(Y_test_50,eachPred))"
   ]
  },
  {
   "cell_type": "code",
   "execution_count": 28,
   "metadata": {},
   "outputs": [
    {
     "data": {
      "image/png": "[encoded data removed]",
      "text/plain": [
       "<Figure size 432x288 with 1 Axes>"
      ]
     },
     "metadata": {
      "needs_background": "light"
     },
     "output_type": "display_data"
    }
   ],
   "source": [
    "plt.plot([5, 10, 15, 20], [0.48, 0.51, 0.52, 0.52])\n",
    "plt.xlabel('k')\n",
    "plt.ylabel('Accuracy')\n",
    "plt.show()"
   ]
  },
  {
   "cell_type": "markdown",
   "metadata": {},
   "source": [
    "DecisionTree"
   ]
  },
  {
   "cell_type": "code",
   "execution_count": 29,
   "metadata": {},
   "outputs": [
    {
     "name": "stdout",
     "output_type": "stream",
     "text": [
      "0.47761194029850745\n",
      "[[187  50  73]\n",
      " [ 53  67  56]\n",
      " [ 92  61  98]]\n",
      "              precision    recall  f1-score   support\n",
      "\n",
      "           1       0.56      0.60      0.58       310\n",
      "           2       0.38      0.38      0.38       176\n",
      "           3       0.43      0.39      0.41       251\n",
      "\n",
      "   micro avg       0.48      0.48      0.48       737\n",
      "   macro avg       0.46      0.46      0.46       737\n",
      "weighted avg       0.47      0.48      0.48       737\n",
      "\n"
     ]
    }
   ],
   "source": [
    "dt = DecisionTreeClassifier()\n",
    "dt_trained=dt.fit(X_train_50, Y_train_50)\n",
    "Y_pred_50 = dt_trained.predict(X_test_50)\n",
    "print(accuracy_score(Y_test_50, Y_pred_50))\n",
    "print(confusion_matrix(Y_test_50, Y_pred_50))\n",
    "print(classification_report(Y_test_50,Y_pred_50))"
   ]
  },
  {
   "cell_type": "code",
   "execution_count": 30,
   "metadata": {},
   "outputs": [
    {
     "name": "stdout",
     "output_type": "stream",
     "text": [
      "0.5373134328358209\n",
      "[[181  16 113]\n",
      " [ 38  46  92]\n",
      " [ 62  20 169]]\n",
      "              precision    recall  f1-score   support\n",
      "\n",
      "           1       0.64      0.58      0.61       310\n",
      "           2       0.56      0.26      0.36       176\n",
      "           3       0.45      0.67      0.54       251\n",
      "\n",
      "   micro avg       0.54      0.54      0.54       737\n",
      "   macro avg       0.55      0.51      0.50       737\n",
      "weighted avg       0.56      0.54      0.53       737\n",
      "\n"
     ]
    }
   ],
   "source": [
    "depths = range(5,15)\n",
    "cv_scores = []\n",
    "for maxDpt in depths:\n",
    "    dt = DecisionTreeClassifier(max_depth = maxDpt)\n",
    "    scores = cross_val_score(dt,X_train_50,Y_train_50,cv=5,scoring='accuracy')\n",
    "    cv_scores.append(scores.mean())\n",
    "maxDpt_best = depths[np.argmax(cv_scores)]\n",
    "dt = DecisionTreeClassifier(max_depth = maxDpt_best)\n",
    "dt_trained=dt.fit(X_train_50, Y_train_50)\n",
    "Y_pred_50 = dt_trained.predict(X_test_50)\n",
    "print(accuracy_score(Y_test_50, Y_pred_50))\n",
    "print(confusion_matrix(Y_test_50, Y_pred_50))\n",
    "print(classification_report(Y_test_50,Y_pred_50))"
   ]
  },
  {
   "cell_type": "markdown",
   "metadata": {},
   "source": [
    "Suite2: 60% for training and 40% for testing"
   ]
  },
  {
   "cell_type": "code",
   "execution_count": 31,
   "metadata": {},
   "outputs": [],
   "source": [
    "X_train_60, X_test_40, Y_train_60, Y_test_40 = train_test_split(X, Y, test_size=0.40, random_state=0)"
   ]
  },
  {
   "cell_type": "markdown",
   "metadata": {},
   "source": [
    "K-NN"
   ]
  },
  {
   "cell_type": "code",
   "execution_count": 32,
   "metadata": {},
   "outputs": [
    {
     "name": "stdout",
     "output_type": "stream",
     "text": [
      "--------------------\n",
      "('k =', 5)\n",
      "Confusion matrix: \n",
      "[[155  31  56]\n",
      " [ 59  51  36]\n",
      " [ 81  46  75]]\n",
      "Accuracy: 0.48\n",
      "--------------------\n",
      "Classification Report:\n",
      "              precision    recall  f1-score   support\n",
      "\n",
      "           1       0.53      0.64      0.58       242\n",
      "           2       0.40      0.35      0.37       146\n",
      "           3       0.45      0.37      0.41       202\n",
      "\n",
      "   micro avg       0.48      0.48      0.48       590\n",
      "   macro avg       0.46      0.45      0.45       590\n",
      "weighted avg       0.47      0.48      0.47       590\n",
      "\n",
      "--------------------\n",
      "('k =', 10)\n",
      "Confusion matrix: \n",
      "[[156  30  56]\n",
      " [ 45  61  40]\n",
      " [ 62  47  93]]\n",
      "Accuracy: 0.53\n",
      "--------------------\n",
      "Classification Report:\n",
      "              precision    recall  f1-score   support\n",
      "\n",
      "           1       0.59      0.64      0.62       242\n",
      "           2       0.44      0.42      0.43       146\n",
      "           3       0.49      0.46      0.48       202\n",
      "\n",
      "   micro avg       0.53      0.53      0.53       590\n",
      "   macro avg       0.51      0.51      0.51       590\n",
      "weighted avg       0.52      0.53      0.52       590\n",
      "\n",
      "--------------------\n",
      "('k =', 15)\n",
      "Confusion matrix: \n",
      "[[151  28  63]\n",
      " [ 40  59  47]\n",
      " [ 62  44  96]]\n",
      "Accuracy: 0.52\n",
      "--------------------\n",
      "Classification Report:\n",
      "              precision    recall  f1-score   support\n",
      "\n",
      "           1       0.60      0.62      0.61       242\n",
      "           2       0.45      0.40      0.43       146\n",
      "           3       0.47      0.48      0.47       202\n",
      "\n",
      "   micro avg       0.52      0.52      0.52       590\n",
      "   macro avg       0.50      0.50      0.50       590\n",
      "weighted avg       0.52      0.52      0.52       590\n",
      "\n",
      "--------------------\n",
      "('k =', 20)\n",
      "Confusion matrix: \n",
      "[[150  33  59]\n",
      " [ 42  55  49]\n",
      " [ 59  40 103]]\n",
      "Accuracy: 0.52\n",
      "--------------------\n",
      "Classification Report:\n",
      "              precision    recall  f1-score   support\n",
      "\n",
      "           1       0.60      0.62      0.61       242\n",
      "           2       0.43      0.38      0.40       146\n",
      "           3       0.49      0.51      0.50       202\n",
      "\n",
      "   micro avg       0.52      0.52      0.52       590\n",
      "   macro avg       0.51      0.50      0.50       590\n",
      "weighted avg       0.52      0.52      0.52       590\n",
      "\n"
     ]
    }
   ],
   "source": [
    "kValues = [5, 10, 15, 20]\n",
    "for eachK in kValues:\n",
    "    # Training\n",
    "    eachModel = KNeighborsClassifier(n_neighbors=eachK)\n",
    "    eachModel.fit(X_train_60, Y_train_60)\n",
    "    # Testing\n",
    "    print('-'*20)\n",
    "    print('k =', eachK)\n",
    "    eachPred = eachModel.predict(X_test_40)\n",
    "    print('Confusion matrix: ')\n",
    "    print(confusion_matrix(Y_test_40, eachPred))\n",
    "    print('Accuracy: %.2f' % accuracy_score(Y_test_40, eachPred))\n",
    "    print('-'*20)\n",
    "    print('Classification Report:')\n",
    "    print(classification_report(Y_test_40,eachPred))"
   ]
  },
  {
   "cell_type": "code",
   "execution_count": 33,
   "metadata": {},
   "outputs": [
    {
     "data": {
      "image/png": "[encoded data removed]",
      "text/plain": [
       "<Figure size 432x288 with 1 Axes>"
      ]
     },
     "metadata": {
      "needs_background": "light"
     },
     "output_type": "display_data"
    }
   ],
   "source": [
    "plt.plot([5, 10, 15, 20], [0.48, 0.53, 0.52, 0.52])\n",
    "plt.xlabel('k')\n",
    "plt.ylabel('Accuracy')\n",
    "plt.show()"
   ]
  },
  {
   "cell_type": "markdown",
   "metadata": {},
   "source": [
    "DecisionTree"
   ]
  },
  {
   "cell_type": "code",
   "execution_count": 34,
   "metadata": {},
   "outputs": [
    {
     "name": "stdout",
     "output_type": "stream",
     "text": [
      "0.47796610169491527\n",
      "[[139  45  58]\n",
      " [ 38  61  47]\n",
      " [ 71  49  82]]\n",
      "              precision    recall  f1-score   support\n",
      "\n",
      "           1       0.56      0.57      0.57       242\n",
      "           2       0.39      0.42      0.41       146\n",
      "           3       0.44      0.41      0.42       202\n",
      "\n",
      "   micro avg       0.48      0.48      0.48       590\n",
      "   macro avg       0.46      0.47      0.46       590\n",
      "weighted avg       0.48      0.48      0.48       590\n",
      "\n"
     ]
    }
   ],
   "source": [
    "dt = DecisionTreeClassifier()\n",
    "dt_trained=dt.fit(X_train_60, Y_train_60)\n",
    "Y_pred_40 = dt_trained.predict(X_test_40)\n",
    "print(accuracy_score(Y_test_40, Y_pred_40))\n",
    "print(confusion_matrix(Y_test_40, Y_pred_40))\n",
    "print(classification_report(Y_test_40,Y_pred_40))"
   ]
  },
  {
   "cell_type": "code",
   "execution_count": 35,
   "metadata": {},
   "outputs": [
    {
     "name": "stdout",
     "output_type": "stream",
     "text": [
      "0.511864406779661\n",
      "[[150  24  68]\n",
      " [ 52  56  38]\n",
      " [ 72  34  96]]\n",
      "              precision    recall  f1-score   support\n",
      "\n",
      "           1       0.55      0.62      0.58       242\n",
      "           2       0.49      0.38      0.43       146\n",
      "           3       0.48      0.48      0.48       202\n",
      "\n",
      "   micro avg       0.51      0.51      0.51       590\n",
      "   macro avg       0.50      0.49      0.50       590\n",
      "weighted avg       0.51      0.51      0.51       590\n",
      "\n"
     ]
    }
   ],
   "source": [
    "depths = range(5,15)\n",
    "cv_scores = []\n",
    "for maxDpt in depths:\n",
    "    dt = DecisionTreeClassifier(max_depth = maxDpt)\n",
    "    scores = cross_val_score(dt,X_train_60,Y_train_60,cv=5,scoring='accuracy')\n",
    "    cv_scores.append(scores.mean())\n",
    "maxDpt_best = depths[np.argmax(cv_scores)]\n",
    "dt = DecisionTreeClassifier(max_depth = maxDpt_best)\n",
    "dt_trained=dt.fit(X_train_60, Y_train_60)\n",
    "Y_pred_40 = dt_trained.predict(X_test_40)\n",
    "print(accuracy_score(Y_test_40, Y_pred_40))\n",
    "print(confusion_matrix(Y_test_40, Y_pred_40))\n",
    "print(classification_report(Y_test_40,Y_pred_40))"
   ]
  },
  {
   "cell_type": "markdown",
   "metadata": {},
   "source": [
    "Suite3: 80% for training and 20% for testing"
   ]
  },
  {
   "cell_type": "code",
   "execution_count": 36,
   "metadata": {},
   "outputs": [],
   "source": [
    "X_train_80, X_test_20, Y_train_80, Y_test_20 = train_test_split(X, Y, test_size=0.20, random_state=0)"
   ]
  },
  {
   "cell_type": "markdown",
   "metadata": {},
   "source": [
    "K-NN"
   ]
  },
  {
   "cell_type": "code",
   "execution_count": 37,
   "metadata": {},
   "outputs": [
    {
     "name": "stdout",
     "output_type": "stream",
     "text": [
      "--------------------\n",
      "('k =', 5)\n",
      "Confusion matrix: \n",
      "[[89 19 29]\n",
      " [25 28 22]\n",
      " [29 21 33]]\n",
      "Accuracy: 0.51\n",
      "--------------------\n",
      "Classification Report:\n",
      "              precision    recall  f1-score   support\n",
      "\n",
      "           1       0.62      0.65      0.64       137\n",
      "           2       0.41      0.37      0.39        75\n",
      "           3       0.39      0.40      0.40        83\n",
      "\n",
      "   micro avg       0.51      0.51      0.51       295\n",
      "   macro avg       0.48      0.47      0.47       295\n",
      "weighted avg       0.50      0.51      0.51       295\n",
      "\n",
      "--------------------\n",
      "('k =', 10)\n",
      "Confusion matrix: \n",
      "[[89 14 34]\n",
      " [19 30 26]\n",
      " [30 15 38]]\n",
      "Accuracy: 0.53\n",
      "--------------------\n",
      "Classification Report:\n",
      "              precision    recall  f1-score   support\n",
      "\n",
      "           1       0.64      0.65      0.65       137\n",
      "           2       0.51      0.40      0.45        75\n",
      "           3       0.39      0.46      0.42        83\n",
      "\n",
      "   micro avg       0.53      0.53      0.53       295\n",
      "   macro avg       0.51      0.50      0.50       295\n",
      "weighted avg       0.54      0.53      0.53       295\n",
      "\n",
      "--------------------\n",
      "('k =', 15)\n",
      "Confusion matrix: \n",
      "[[91 13 33]\n",
      " [18 28 29]\n",
      " [26 13 44]]\n",
      "Accuracy: 0.55\n",
      "--------------------\n",
      "Classification Report:\n",
      "              precision    recall  f1-score   support\n",
      "\n",
      "           1       0.67      0.66      0.67       137\n",
      "           2       0.52      0.37      0.43        75\n",
      "           3       0.42      0.53      0.47        83\n",
      "\n",
      "   micro avg       0.55      0.55      0.55       295\n",
      "   macro avg       0.54      0.52      0.52       295\n",
      "weighted avg       0.56      0.55      0.55       295\n",
      "\n",
      "--------------------\n",
      "('k =', 20)\n",
      "Confusion matrix: \n",
      "[[90 15 32]\n",
      " [20 28 27]\n",
      " [26 14 43]]\n",
      "Accuracy: 0.55\n",
      "--------------------\n",
      "Classification Report:\n",
      "              precision    recall  f1-score   support\n",
      "\n",
      "           1       0.66      0.66      0.66       137\n",
      "           2       0.49      0.37      0.42        75\n",
      "           3       0.42      0.52      0.46        83\n",
      "\n",
      "   micro avg       0.55      0.55      0.55       295\n",
      "   macro avg       0.52      0.52      0.52       295\n",
      "weighted avg       0.55      0.55      0.54       295\n",
      "\n"
     ]
    }
   ],
   "source": [
    "kValues = [5, 10, 15, 20]\n",
    "for eachK in kValues:\n",
    "    # Training\n",
    "    eachModel = KNeighborsClassifier(n_neighbors=eachK)\n",
    "    eachModel.fit(X_train_80, Y_train_80)\n",
    "    # Testing\n",
    "    print('-'*20)\n",
    "    print('k =', eachK)\n",
    "    eachPred = eachModel.predict(X_test_20)\n",
    "    print('Confusion matrix: ')\n",
    "    print(confusion_matrix(Y_test_20, eachPred))\n",
    "    print('Accuracy: %.2f' % accuracy_score(Y_test_20, eachPred))\n",
    "    print('-'*20)\n",
    "    print('Classification Report:')\n",
    "    print(classification_report(Y_test_20,eachPred))"
   ]
  },
  {
   "cell_type": "code",
   "execution_count": 38,
   "metadata": {},
   "outputs": [
    {
     "data": {
      "image/png": "[encoded data removed]",
      "text/plain": [
       "<Figure size 432x288 with 1 Axes>"
      ]
     },
     "metadata": {
      "needs_background": "light"
     },
     "output_type": "display_data"
    }
   ],
   "source": [
    "plt.plot([5, 10, 15, 20], [0.51, 0.53, 0.55, 0.55])\n",
    "plt.xlabel('k')\n",
    "plt.ylabel('Accuracy')\n",
    "plt.show()"
   ]
  },
  {
   "cell_type": "markdown",
   "metadata": {},
   "source": [
    "DecisionTree"
   ]
  },
  {
   "cell_type": "code",
   "execution_count": 39,
   "metadata": {},
   "outputs": [
    {
     "name": "stdout",
     "output_type": "stream",
     "text": [
      "0.44745762711864406\n",
      "[[78 27 32]\n",
      " [18 26 31]\n",
      " [33 22 28]]\n",
      "              precision    recall  f1-score   support\n",
      "\n",
      "           1       0.60      0.57      0.59       137\n",
      "           2       0.35      0.35      0.35        75\n",
      "           3       0.31      0.34      0.32        83\n",
      "\n",
      "   micro avg       0.45      0.45      0.45       295\n",
      "   macro avg       0.42      0.42      0.42       295\n",
      "weighted avg       0.46      0.45      0.45       295\n",
      "\n"
     ]
    }
   ],
   "source": [
    "dt = DecisionTreeClassifier()\n",
    "dt_trained=dt.fit(X_train_80, Y_train_80)\n",
    "Y_pred_20 = dt_trained.predict(X_test_20)\n",
    "print(accuracy_score(Y_test_20, Y_pred_20))\n",
    "print(confusion_matrix(Y_test_20, Y_pred_20))\n",
    "print(classification_report(Y_test_20,Y_pred_20))"
   ]
  },
  {
   "cell_type": "code",
   "execution_count": 40,
   "metadata": {},
   "outputs": [
    {
     "name": "stdout",
     "output_type": "stream",
     "text": [
      "0.5288135593220339\n",
      "[[87 14 36]\n",
      " [13 29 33]\n",
      " [27 16 40]]\n",
      "              precision    recall  f1-score   support\n",
      "\n",
      "           1       0.69      0.64      0.66       137\n",
      "           2       0.49      0.39      0.43        75\n",
      "           3       0.37      0.48      0.42        83\n",
      "\n",
      "   micro avg       0.53      0.53      0.53       295\n",
      "   macro avg       0.51      0.50      0.50       295\n",
      "weighted avg       0.55      0.53      0.53       295\n",
      "\n"
     ]
    }
   ],
   "source": [
    "from sklearn.model_selection import cross_val_score\n",
    "depths = range(5,15)\n",
    "cv_scores = []\n",
    "for maxDpt in depths:\n",
    "    dt = DecisionTreeClassifier(max_depth = maxDpt)\n",
    "    scores = cross_val_score(dt,X_train_80,Y_train_80,cv=5,scoring='accuracy')\n",
    "    cv_scores.append(scores.mean())\n",
    "maxDpt_best = depths[np.argmax(cv_scores)]\n",
    "dt = DecisionTreeClassifier(max_depth = maxDpt_best)\n",
    "dt_trained=dt.fit(X_train_80, Y_train_80)\n",
    "Y_pred_20 = dt_trained.predict(X_test_20)\n",
    "print(accuracy_score(Y_test_20, Y_pred_20))\n",
    "print(confusion_matrix(Y_test_20, Y_pred_20))\n",
    "print(classification_report(Y_test_20,Y_pred_20))"
   ]
  }
 ],
 "metadata": {
  "kernelspec": {
   "display_name": "Python 3",
   "language": "python",
   "name": "python3"
  },
  "language_info": {
   "codemirror_mode": {
    "name": "ipython",
    "version": 3
   },
   "file_extension": ".py",
   "mimetype": "text/x-python",
   "name": "python",
   "nbconvert_exporter": "python",
   "pygments_lexer": "ipython3",
   "version": "3.8.8"
  }
 },
 "nbformat": 4,
 "nbformat_minor": 2
}
